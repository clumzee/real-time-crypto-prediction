{
 "cells": [
  {
   "cell_type": "code",
   "execution_count": 1,
   "id": "c0219847",
   "metadata": {},
   "outputs": [
    {
     "name": "stderr",
     "output_type": "stream",
     "text": [
      "/home/arun/.virtualenvs/real_time_crypto_prediction/lib/python3.8/site-packages/environ/environ.py:639: UserWarning: /tmp/ipykernel_26080/.env doesn't exist - if you're not configuring your environment separately, create one.\n",
      "  warnings.warn(\n"
     ]
    }
   ],
   "source": [
    "# This websocket consumer is also a kafak producer\n",
    "\n",
    "\n",
    "import asyncio\n",
    "import logging\n",
    "import websockets\n",
    "import json\n",
    "import environ\n",
    "import pandas as pd\n",
    "from kafka import KafkaAdminClient\n",
    "from kafka.producer import KafkaProducer\n",
    "\n",
    "bitcoin_data = pd.DataFrame.from_dict(\n",
    "    {\n",
    "        \"time_exhange\": [],\n",
    "        \"time_coinapi\": [],\n",
    "        \"uuid\": [],\n",
    "        \"price\": [],\n",
    "        \"size\": [],\n",
    "        \"taker_side\": [],\n",
    "        \"symbol_id\": [],\n",
    "        \"sequence\": [],\n",
    "        \"type\": [],\n",
    "    }\n",
    ")\n",
    "\n",
    "\n",
    "env = environ.Env(\n",
    "    # set casting, default value\n",
    "    DEBUG=(bool, False)\n",
    ")\n",
    "\n",
    "environ.Env.read_env()\n",
    "\n",
    "\n",
    "\n"
   ]
  },
  {
   "cell_type": "code",
   "execution_count": 2,
   "id": "9b2afd7f",
   "metadata": {},
   "outputs": [],
   "source": [
    "producer = KafkaProducer(bootstrap_servers=\"localhost:9092,localhost:9093,locahost:9094\")"
   ]
  },
  {
   "cell_type": "code",
   "execution_count": 3,
   "id": "3e0b48f1",
   "metadata": {},
   "outputs": [
    {
     "ename": "RuntimeError",
     "evalue": "This event loop is already running",
     "output_type": "error",
     "traceback": [
      "\u001b[0;31m---------------------------------------------------------------------------\u001b[0m",
      "\u001b[0;31mRuntimeError\u001b[0m                              Traceback (most recent call last)",
      "Input \u001b[0;32mIn [3]\u001b[0m, in \u001b[0;36m<cell line: 39>\u001b[0;34m()\u001b[0m\n\u001b[1;32m     39\u001b[0m \u001b[38;5;28;01mif\u001b[39;00m \u001b[38;5;18m__name__\u001b[39m \u001b[38;5;241m==\u001b[39m \u001b[38;5;124m\"\u001b[39m\u001b[38;5;124m__main__\u001b[39m\u001b[38;5;124m\"\u001b[39m:\n\u001b[1;32m     40\u001b[0m     loop \u001b[38;5;241m=\u001b[39m asyncio\u001b[38;5;241m.\u001b[39mget_event_loop()\n\u001b[0;32m---> 41\u001b[0m     \u001b[43mloop\u001b[49m\u001b[38;5;241;43m.\u001b[39;49m\u001b[43mrun_until_complete\u001b[49m\u001b[43m(\u001b[49m\u001b[43mconsume\u001b[49m\u001b[43m(\u001b[49m\u001b[43murl\u001b[49m\u001b[38;5;241;43m=\u001b[39;49m\u001b[38;5;124;43m\"\u001b[39;49m\u001b[38;5;124;43mwss://ws.coinapi.io/v1/\u001b[39;49m\u001b[38;5;124;43m\"\u001b[39;49m\u001b[43m)\u001b[49m\u001b[43m)\u001b[49m\n\u001b[1;32m     42\u001b[0m     loop\u001b[38;5;241m.\u001b[39mrun_forever()\n",
      "File \u001b[0;32m/usr/lib/python3.8/asyncio/base_events.py:592\u001b[0m, in \u001b[0;36mBaseEventLoop.run_until_complete\u001b[0;34m(self, future)\u001b[0m\n\u001b[1;32m    581\u001b[0m \u001b[38;5;124;03m\"\"\"Run until the Future is done.\u001b[39;00m\n\u001b[1;32m    582\u001b[0m \n\u001b[1;32m    583\u001b[0m \u001b[38;5;124;03mIf the argument is a coroutine, it is wrapped in a Task.\u001b[39;00m\n\u001b[0;32m   (...)\u001b[0m\n\u001b[1;32m    589\u001b[0m \u001b[38;5;124;03mReturn the Future's result, or raise its exception.\u001b[39;00m\n\u001b[1;32m    590\u001b[0m \u001b[38;5;124;03m\"\"\"\u001b[39;00m\n\u001b[1;32m    591\u001b[0m \u001b[38;5;28mself\u001b[39m\u001b[38;5;241m.\u001b[39m_check_closed()\n\u001b[0;32m--> 592\u001b[0m \u001b[38;5;28;43mself\u001b[39;49m\u001b[38;5;241;43m.\u001b[39;49m\u001b[43m_check_running\u001b[49m\u001b[43m(\u001b[49m\u001b[43m)\u001b[49m\n\u001b[1;32m    594\u001b[0m new_task \u001b[38;5;241m=\u001b[39m \u001b[38;5;129;01mnot\u001b[39;00m futures\u001b[38;5;241m.\u001b[39misfuture(future)\n\u001b[1;32m    595\u001b[0m future \u001b[38;5;241m=\u001b[39m tasks\u001b[38;5;241m.\u001b[39mensure_future(future, loop\u001b[38;5;241m=\u001b[39m\u001b[38;5;28mself\u001b[39m)\n",
      "File \u001b[0;32m/usr/lib/python3.8/asyncio/base_events.py:552\u001b[0m, in \u001b[0;36mBaseEventLoop._check_running\u001b[0;34m(self)\u001b[0m\n\u001b[1;32m    550\u001b[0m \u001b[38;5;28;01mdef\u001b[39;00m \u001b[38;5;21m_check_running\u001b[39m(\u001b[38;5;28mself\u001b[39m):\n\u001b[1;32m    551\u001b[0m     \u001b[38;5;28;01mif\u001b[39;00m \u001b[38;5;28mself\u001b[39m\u001b[38;5;241m.\u001b[39mis_running():\n\u001b[0;32m--> 552\u001b[0m         \u001b[38;5;28;01mraise\u001b[39;00m \u001b[38;5;167;01mRuntimeError\u001b[39;00m(\u001b[38;5;124m'\u001b[39m\u001b[38;5;124mThis event loop is already running\u001b[39m\u001b[38;5;124m'\u001b[39m)\n\u001b[1;32m    553\u001b[0m     \u001b[38;5;28;01mif\u001b[39;00m events\u001b[38;5;241m.\u001b[39m_get_running_loop() \u001b[38;5;129;01mis\u001b[39;00m \u001b[38;5;129;01mnot\u001b[39;00m \u001b[38;5;28;01mNone\u001b[39;00m:\n\u001b[1;32m    554\u001b[0m         \u001b[38;5;28;01mraise\u001b[39;00m \u001b[38;5;167;01mRuntimeError\u001b[39;00m(\n\u001b[1;32m    555\u001b[0m             \u001b[38;5;124m'\u001b[39m\u001b[38;5;124mCannot run the event loop while another loop is running\u001b[39m\u001b[38;5;124m'\u001b[39m)\n",
      "\u001b[0;31mRuntimeError\u001b[0m: This event loop is already running"
     ]
    },
    {
     "name": "stderr",
     "output_type": "stream",
     "text": [
      "INFO:kafka.conn:<BrokerConnection node_id=1 host=localhost:9093 <connecting> [IPv4 ('127.0.0.1', 9093)]>: connecting to localhost:9093 [('127.0.0.1', 9093) IPv4]\n",
      "INFO:kafka.conn:<BrokerConnection node_id=1 host=localhost:9093 <connecting> [IPv4 ('127.0.0.1', 9093)]>: Connection complete.\n",
      "INFO:kafka.conn:<BrokerConnection node_id=bootstrap-2 host=localhost:9093 <connected> [IPv4 ('127.0.0.1', 9093)]>: Closing connection. \n"
     ]
    }
   ],
   "source": [
    "\n",
    "with open(\"/home/arun/WORK/real-time-crypto-prediction/message.json\", \"r\") as json_file:\n",
    "    message_dict = json.load(json_file)\n",
    "\n",
    "logging.basicConfig(level=logging.INFO)\n",
    "\n",
    "\n",
    "def log_message(message: str) -> None:\n",
    "    logging.info(f\"Message:- {message}\")\n",
    "\n",
    "\n",
    "async def consumer_handler(websocket) -> None:\n",
    "    async for message in websocket:\n",
    "        # log_message(type(message))\n",
    "        response_dict = json.loads(message)\n",
    "\n",
    "        if response_dict[\"symbol_id\"] == \"COINBASE_SPOT_BTC_USD\":\n",
    "            log_message(f\"Bitcoin Symbol detected, Price:- {response_dict}\")\n",
    "            # bitcoin_data.append(response_dict, ignore_index=True)\n",
    "            producer.send(\n",
    "                topic='bitcoin',\n",
    "                key=response_dict[\"uuid\"].encode(\"utf-8\"),\n",
    "                value=message.encode(\"utf-8\"),\n",
    "            )\n",
    "\n",
    "            bitcoin_temp_df = pd.DataFrame.from_dict(response_dict)\n",
    "            pd.merge([bitcoin_data,bitcoin_temp_df], axis = 1)\n",
    "\n",
    "            # log_message(response_dict.keys())\n",
    "\n",
    "\n",
    "async def consume(url: str) -> None:\n",
    "\n",
    "    async with websockets.connect(url) as websocket:\n",
    "        await websocket.send(json.dumps(message_dict))\n",
    "\n",
    "        await consumer_handler(websocket)\n",
    "\n",
    "\n",
    "if __name__ == \"__main__\":\n",
    "    loop = asyncio.get_event_loop()\n",
    "    loop.run_until_complete(consume(url=\"wss://ws.coinapi.io/v1/\"))\n",
    "    loop.run_forever()\n"
   ]
  },
  {
   "cell_type": "code",
   "execution_count": null,
   "id": "0f5af41b",
   "metadata": {},
   "outputs": [],
   "source": []
  }
 ],
 "metadata": {
  "kernelspec": {
   "display_name": "Python 3 (ipykernel)",
   "language": "python",
   "name": "python3"
  },
  "language_info": {
   "codemirror_mode": {
    "name": "ipython",
    "version": 3
   },
   "file_extension": ".py",
   "mimetype": "text/x-python",
   "name": "python",
   "nbconvert_exporter": "python",
   "pygments_lexer": "ipython3",
   "version": "3.8.10"
  }
 },
 "nbformat": 4,
 "nbformat_minor": 5
}
